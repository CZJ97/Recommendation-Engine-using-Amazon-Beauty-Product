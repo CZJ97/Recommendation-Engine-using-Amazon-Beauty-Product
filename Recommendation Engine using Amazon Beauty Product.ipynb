{
 "cells": [
  {
   "cell_type": "markdown",
   "id": "ee477fe6",
   "metadata": {},
   "source": [
    "Recommendation Engine using Amazon Beauty Product\n",
    "\n",
    "This data set is take from https://www.kaggle.com/skillsmuggler/amazon-ratings.\n",
    "This data set contain 4 column which are UserId, ProductId, Rating and Timestamp, and total 1048576 row in this data set.\n",
    "\n",
    "In this project was using SVD (Singular value decomposition) model to build the recommendation for the data set. At the last of the project, user can key in the UserId in the model, then the model will come out top 5 recommendation product based on the UseID. "
   ]
  },
  {
   "cell_type": "code",
   "execution_count": 1,
   "id": "437e37c9",
   "metadata": {},
   "outputs": [],
   "source": [
    "#Import library for this project usage\n",
    "import numpy as np\n",
    "import pandas as pd\n",
    "import seaborn as sns\n",
    "import matplotlib.pyplot as plt\n",
    "from IPython import display \n",
    "from surprise import Reader, Dataset\n",
    "from surprise.model_selection import train_test_split\n",
    "from surprise import SVD, accuracy\n",
    "from collections import defaultdi"
   ]
  },
  {
   "cell_type": "code",
   "execution_count": 26,
   "id": "a74496be",
   "metadata": {},
   "outputs": [],
   "source": [
    "#Import the data into python\n",
    "data = pd.read_csv ('ratings_Beauty.csv')"
   ]
  },
  {
   "cell_type": "code",
   "execution_count": 27,
   "id": "cb1e19eb",
   "metadata": {},
   "outputs": [
    {
     "data": {
      "text/html": [
       "<div>\n",
       "<style scoped>\n",
       "    .dataframe tbody tr th:only-of-type {\n",
       "        vertical-align: middle;\n",
       "    }\n",
       "\n",
       "    .dataframe tbody tr th {\n",
       "        vertical-align: top;\n",
       "    }\n",
       "\n",
       "    .dataframe thead th {\n",
       "        text-align: right;\n",
       "    }\n",
       "</style>\n",
       "<table border=\"1\" class=\"dataframe\">\n",
       "  <thead>\n",
       "    <tr style=\"text-align: right;\">\n",
       "      <th></th>\n",
       "      <th>UserId</th>\n",
       "      <th>ProductId</th>\n",
       "      <th>Rating</th>\n",
       "      <th>Timestamp</th>\n",
       "    </tr>\n",
       "  </thead>\n",
       "  <tbody>\n",
       "    <tr>\n",
       "      <th>0</th>\n",
       "      <td>A39HTATAQ9V7YF</td>\n",
       "      <td>0205616461</td>\n",
       "      <td>5.0</td>\n",
       "      <td>1369699200</td>\n",
       "    </tr>\n",
       "    <tr>\n",
       "      <th>1</th>\n",
       "      <td>A3JM6GV9MNOF9X</td>\n",
       "      <td>0558925278</td>\n",
       "      <td>3.0</td>\n",
       "      <td>1355443200</td>\n",
       "    </tr>\n",
       "    <tr>\n",
       "      <th>2</th>\n",
       "      <td>A1Z513UWSAAO0F</td>\n",
       "      <td>0558925278</td>\n",
       "      <td>5.0</td>\n",
       "      <td>1404691200</td>\n",
       "    </tr>\n",
       "    <tr>\n",
       "      <th>3</th>\n",
       "      <td>A1WMRR494NWEWV</td>\n",
       "      <td>0733001998</td>\n",
       "      <td>4.0</td>\n",
       "      <td>1382572800</td>\n",
       "    </tr>\n",
       "    <tr>\n",
       "      <th>4</th>\n",
       "      <td>A3IAAVS479H7M7</td>\n",
       "      <td>0737104473</td>\n",
       "      <td>1.0</td>\n",
       "      <td>1274227200</td>\n",
       "    </tr>\n",
       "  </tbody>\n",
       "</table>\n",
       "</div>"
      ],
      "text/plain": [
       "           UserId   ProductId  Rating   Timestamp\n",
       "0  A39HTATAQ9V7YF  0205616461     5.0  1369699200\n",
       "1  A3JM6GV9MNOF9X  0558925278     3.0  1355443200\n",
       "2  A1Z513UWSAAO0F  0558925278     5.0  1404691200\n",
       "3  A1WMRR494NWEWV  0733001998     4.0  1382572800\n",
       "4  A3IAAVS479H7M7  0737104473     1.0  1274227200"
      ]
     },
     "execution_count": 27,
     "metadata": {},
     "output_type": "execute_result"
    }
   ],
   "source": [
    "data.head()"
   ]
  },
  {
   "cell_type": "code",
   "execution_count": 28,
   "id": "863782ba",
   "metadata": {},
   "outputs": [
    {
     "name": "stdout",
     "output_type": "stream",
     "text": [
      "<class 'pandas.core.frame.DataFrame'>\n",
      "RangeIndex: 2023070 entries, 0 to 2023069\n",
      "Data columns (total 4 columns):\n",
      " #   Column     Dtype  \n",
      "---  ------     -----  \n",
      " 0   UserId     object \n",
      " 1   ProductId  object \n",
      " 2   Rating     float64\n",
      " 3   Timestamp  int64  \n",
      "dtypes: float64(1), int64(1), object(2)\n",
      "memory usage: 61.7+ MB\n"
     ]
    }
   ],
   "source": [
    "#check the data info\n",
    "#we know that the UserID and ProductId are object type, Rating is integer type and Timestamp is float type.\n",
    "data.info()"
   ]
  },
  {
   "cell_type": "code",
   "execution_count": 29,
   "id": "06b51ed8",
   "metadata": {},
   "outputs": [
    {
     "data": {
      "text/plain": [
       "5.0    1248721\n",
       "4.0     307740\n",
       "1.0     183784\n",
       "3.0     169791\n",
       "2.0     113034\n",
       "Name: Rating, dtype: int64"
      ]
     },
     "execution_count": 29,
     "metadata": {},
     "output_type": "execute_result"
    }
   ],
   "source": [
    "data.Rating.value_counts()"
   ]
  },
  {
   "cell_type": "code",
   "execution_count": 30,
   "id": "0f50ab86",
   "metadata": {},
   "outputs": [
    {
     "data": {
      "image/png": "[encoded data removed]",
      "text/plain": [
       "<Figure size 432x288 with 1 Axes>"
      ]
     },
     "metadata": {
      "needs_background": "light"
     },
     "output_type": "display_data"
    }
   ],
   "source": [
    "data.Rating.value_counts().plot(kind='bar')\n",
    "plt.show()\n",
    "#Based on the graph, we can knwo that most of the beauty product have the highest rating."
   ]
  },
  {
   "cell_type": "code",
   "execution_count": 31,
   "id": "96ed83df",
   "metadata": {},
   "outputs": [
    {
     "data": {
      "text/plain": [
       "UserId       0\n",
       "ProductId    0\n",
       "Rating       0\n",
       "Timestamp    0\n",
       "dtype: int64"
      ]
     },
     "execution_count": 31,
     "metadata": {},
     "output_type": "execute_result"
    }
   ],
   "source": [
    "#check have missing value or not\n",
    "data.isnull().sum()"
   ]
  },
  {
   "cell_type": "markdown",
   "id": "3f44c602",
   "metadata": {},
   "source": [
    "# Data Preprosessing"
   ]
  },
  {
   "cell_type": "code",
   "execution_count": 5,
   "id": "3e7de0ff",
   "metadata": {},
   "outputs": [],
   "source": [
    "#rop the timestamp out of the data set\n",
    "data = data[['UserId', 'ProductId', 'Rating', 'Timestamp']]\n",
    "data = data.iloc[:, :-1]"
   ]
  },
  {
   "cell_type": "code",
   "execution_count": 6,
   "id": "60833bc5",
   "metadata": {},
   "outputs": [],
   "source": [
    "\n",
    "reader = Reader(rating_scale = (1.0, 5.0))\n",
    "data = Dataset.load_from_df(data[['UserId', 'ProductId', 'Rating']], reader)"
   ]
  },
  {
   "cell_type": "markdown",
   "id": "bfdee95d",
   "metadata": {},
   "source": [
    "## Model Training"
   ]
  },
  {
   "cell_type": "code",
   "execution_count": 7,
   "id": "932018e3",
   "metadata": {},
   "outputs": [],
   "source": [
    "#Split the dataset to train and test\n",
    "\n",
    "trainset, testset = train_test_split(data, test_size=0.25)"
   ]
  },
  {
   "cell_type": "code",
   "execution_count": 8,
   "id": "6ee3085a",
   "metadata": {},
   "outputs": [
    {
     "name": "stdout",
     "output_type": "stream",
     "text": [
      "Processing epoch 0\n",
      "Processing epoch 1\n",
      "Processing epoch 2\n",
      "Processing epoch 3\n",
      "Processing epoch 4\n",
      "Processing epoch 5\n",
      "Processing epoch 6\n",
      "Processing epoch 7\n",
      "Processing epoch 8\n",
      "Processing epoch 9\n",
      "Processing epoch 10\n",
      "Processing epoch 11\n",
      "Processing epoch 12\n",
      "Processing epoch 13\n",
      "Processing epoch 14\n",
      "Processing epoch 15\n",
      "Processing epoch 16\n",
      "Processing epoch 17\n",
      "Processing epoch 18\n",
      "Processing epoch 19\n"
     ]
    },
    {
     "data": {
      "text/plain": [
       "<surprise.prediction_algorithms.matrix_factorization.SVD at 0x17f00a98a30>"
      ]
     },
     "execution_count": 8,
     "metadata": {},
     "output_type": "execute_result"
    }
   ],
   "source": [
    "# Train the model\n",
    "algo = SVD(n_epochs = 20, n_factors = 50, verbose = True)\n",
    "algo.fit(trainset)\n"
   ]
  },
  {
   "cell_type": "code",
   "execution_count": 9,
   "id": "9fdf3cbf",
   "metadata": {},
   "outputs": [],
   "source": [
    "predictions = algo.test(testset)"
   ]
  },
  {
   "cell_type": "markdown",
   "id": "13f5f332",
   "metadata": {},
   "source": [
    "## Model Evaluation"
   ]
  },
  {
   "cell_type": "code",
   "execution_count": 10,
   "id": "58f13b7c",
   "metadata": {},
   "outputs": [
    {
     "name": "stdout",
     "output_type": "stream",
     "text": [
      "RMSE: 1.2498\n"
     ]
    },
    {
     "data": {
      "text/plain": [
       "1.2498462439924736"
      ]
     },
     "execution_count": 10,
     "metadata": {},
     "output_type": "execute_result"
    }
   ],
   "source": [
    "from surprise import accuracy\n",
    "accuracy.rmse(predictions)"
   ]
  },
  {
   "cell_type": "code",
   "execution_count": 42,
   "id": "2275e43d",
   "metadata": {},
   "outputs": [],
   "source": [
    "predicted_rating = algo.predict(str('A1PSGLFK1NSVO'), str(143026860))"
   ]
  },
  {
   "cell_type": "code",
   "execution_count": 43,
   "id": "fde2bd70",
   "metadata": {},
   "outputs": [
    {
     "data": {
      "text/plain": [
       "Prediction(uid='A1PSGLFK1NSVO', iid='143026860', r_ui=None, est=4.280390786429276, details={'was_impossible': False})"
      ]
     },
     "execution_count": 43,
     "metadata": {},
     "output_type": "execute_result"
    }
   ],
   "source": [
    "predicted_rating"
   ]
  },
  {
   "cell_type": "code",
   "execution_count": 40,
   "id": "58f67726",
   "metadata": {},
   "outputs": [],
   "source": [
    "recommendations = [pred for pred in predictions if pred[0] == 'A1PSGLFK1NSVO']"
   ]
  },
  {
   "cell_type": "code",
   "execution_count": 41,
   "id": "9a1b2d59",
   "metadata": {},
   "outputs": [
    {
     "data": {
      "text/plain": [
       "[Prediction(uid='A1PSGLFK1NSVO', iid='B0009XH6XW', r_ui=5.0, est=4.261523607082321, details={'was_impossible': False})]"
      ]
     },
     "execution_count": 41,
     "metadata": {},
     "output_type": "execute_result"
    }
   ],
   "source": [
    "recommendations"
   ]
  },
  {
   "cell_type": "code",
   "execution_count": 18,
   "id": "7d750596",
   "metadata": {},
   "outputs": [],
   "source": [
    "# Append all the predictions done by svd model into dictionary\n",
    "def get_all_predictions(predictions):\n",
    "    \n",
    "    # First map the predictions to each user.\n",
    "    top_n = defaultdict(list)    \n",
    "    for uid, iid, true_r, est, _ in predictions:\n",
    "        top_n[uid].append((iid, est))\n",
    "    # Then sort the predictions for each user\n",
    "    for uid, user_ratings in top_n.items():\n",
    "        user_ratings.sort(key=lambda x: x[1], reverse=True)\n",
    "    return top_n\n",
    "\n",
    "all_pred = get_all_predictions(predictions)"
   ]
  },
  {
   "cell_type": "code",
   "execution_count": 19,
   "id": "cfedce63",
   "metadata": {},
   "outputs": [],
   "source": [
    "new_all_pred=dict(filter(lambda elem: len(elem[1]) != 1, all_pred.items()))"
   ]
  },
  {
   "cell_type": "code",
   "execution_count": 20,
   "id": "3b2a21f6",
   "metadata": {},
   "outputs": [],
   "source": [
    "#Only take the top 5 recommendation product in the dictionary and change the dictionary to dataframe\n",
    "n = 5\n",
    "for uid, user_ratings in new_all_pred.items():\n",
    "    user_ratings.sort(key=lambda x: x[1], reverse=True)\n",
    "    new_all_pred[uid] = user_ratings[:n]\n",
    "    \n",
    "tmp = pd.DataFrame.from_dict(new_all_pred,orient='index')\n"
   ]
  },
  {
   "cell_type": "code",
   "execution_count": 24,
   "id": "cd076333",
   "metadata": {},
   "outputs": [
    {
     "data": {
      "text/plain": [
       "0     (B005IMHDW8, 4.48409048915299)\n",
       "1    (B003XKW8RM, 4.300928760755514)\n",
       "2    (B00B2UU5FC, 4.136711877330682)\n",
       "3                               None\n",
       "Name: A24PGDMY8R6MTF, dtype: object"
      ]
     },
     "execution_count": 24,
     "metadata": {},
     "output_type": "execute_result"
    }
   ],
   "source": [
    "#Key in the UserID you will get the top 5 recommendation product for the user\n",
    "def get_predictions(user_id):\n",
    "    results = tmp.loc[user_id]\n",
    "    return results\n",
    "\n",
    "user_id='A24PGDMY8R6MTF'\n",
    "results = get_predictions(user_id)\n",
    "results"
   ]
  }
 ],
 "metadata": {
  "kernelspec": {
   "display_name": "Python 3",
   "language": "python",
   "name": "python3"
  },
  "language_info": {
   "codemirror_mode": {
    "name": "ipython",
    "version": 3
   },
   "file_extension": ".py",
   "mimetype": "text/x-python",
   "name": "python",
   "nbconvert_exporter": "python",
   "pygments_lexer": "ipython3",
   "version": "3.8.8"
  }
 },
 "nbformat": 4,
 "nbformat_minor": 5
}
